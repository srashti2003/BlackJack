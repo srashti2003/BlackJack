{
 "cells": [
  {
   "cell_type": "code",
   "execution_count": 15,
   "id": "3f3a24c4",
   "metadata": {},
   "outputs": [],
   "source": [
    "# CARD CLASS\n",
    "# SUITS, RANK, VALUE\n",
    "import random\n",
    "suits = ('Hearts', 'Diamonds', 'Spades', 'Clubs')\n",
    "ranks = ('Two','Three','Four','Five','Six','Seven','Eight','Nine','Ten','Jack','Queen','King','Ace')\n",
    "values = {'Two':2, 'Three':3, 'Four':4, 'Five':5, 'Six':6, 'Seven':7, 'Eight':8, 'Nine':9, 'Ten':10, 'Jack':11,\n",
    "         'Queen':12, 'King':13, 'Ace':14}"
   ]
  },
  {
   "cell_type": "code",
   "execution_count": 16,
   "id": "07071ef7",
   "metadata": {},
   "outputs": [],
   "source": [
    "class Card:\n",
    "    def __init__(self,suit,rank):\n",
    "        self.suit = suit\n",
    "        self.rank = rank\n",
    "        self.value = values[rank]\n",
    "    def __str__(self):\n",
    "        return self.rank+ \" of \" +self.suit"
   ]
  },
  {
   "cell_type": "code",
   "execution_count": 17,
   "id": "f037ae6e",
   "metadata": {},
   "outputs": [],
   "source": [
    "two_of_hearts = Card(\"Hearts\",\"Two\")"
   ]
  },
  {
   "cell_type": "code",
   "execution_count": 18,
   "id": "f5ec549c",
   "metadata": {},
   "outputs": [
    {
     "data": {
      "text/plain": [
       "'Two'"
      ]
     },
     "execution_count": 18,
     "metadata": {},
     "output_type": "execute_result"
    }
   ],
   "source": [
    "two_of_hearts.rank"
   ]
  },
  {
   "cell_type": "code",
   "execution_count": 19,
   "id": "93a25b32",
   "metadata": {},
   "outputs": [
    {
     "data": {
      "text/plain": [
       "'Hearts'"
      ]
     },
     "execution_count": 19,
     "metadata": {},
     "output_type": "execute_result"
    }
   ],
   "source": [
    "two_of_hearts.suit"
   ]
  },
  {
   "cell_type": "code",
   "execution_count": 20,
   "id": "78459a30",
   "metadata": {},
   "outputs": [
    {
     "name": "stdout",
     "output_type": "stream",
     "text": [
      "Two of Hearts\n"
     ]
    }
   ],
   "source": [
    "print(two_of_hearts)"
   ]
  },
  {
   "cell_type": "code",
   "execution_count": 21,
   "id": "b38210c6",
   "metadata": {},
   "outputs": [],
   "source": [
    "values = {'Two':2, 'Three':3, 'Four':4, 'Five':5, 'Six':6, 'Seven':7, 'Eight':8, 'Nine':9, 'Ten':10, 'Jack':11,\n",
    "         'Queen':12, 'King':13, 'Ace':14}"
   ]
  },
  {
   "cell_type": "code",
   "execution_count": 22,
   "id": "a4ac0227",
   "metadata": {},
   "outputs": [
    {
     "data": {
      "text/plain": [
       "2"
      ]
     },
     "execution_count": 22,
     "metadata": {},
     "output_type": "execute_result"
    }
   ],
   "source": [
    "values[two_of_hearts.rank]"
   ]
  },
  {
   "cell_type": "code",
   "execution_count": 23,
   "id": "8c932c41",
   "metadata": {},
   "outputs": [
    {
     "data": {
      "text/plain": [
       "2"
      ]
     },
     "execution_count": 23,
     "metadata": {},
     "output_type": "execute_result"
    }
   ],
   "source": [
    "two_of_hearts.value"
   ]
  },
  {
   "cell_type": "code",
   "execution_count": 24,
   "id": "8a7acc23",
   "metadata": {},
   "outputs": [],
   "source": [
    "jack_of_diamond = Card(\"Diamond\",\"Jack\")"
   ]
  },
  {
   "cell_type": "code",
   "execution_count": 25,
   "id": "e76ddfc5",
   "metadata": {},
   "outputs": [
    {
     "data": {
      "text/plain": [
       "11"
      ]
     },
     "execution_count": 25,
     "metadata": {},
     "output_type": "execute_result"
    }
   ],
   "source": [
    "jack_of_diamond.value"
   ]
  },
  {
   "cell_type": "code",
   "execution_count": 26,
   "id": "ffc43b83",
   "metadata": {},
   "outputs": [
    {
     "data": {
      "text/plain": [
       "'Diamond'"
      ]
     },
     "execution_count": 26,
     "metadata": {},
     "output_type": "execute_result"
    }
   ],
   "source": [
    "jack_of_diamond.suit"
   ]
  },
  {
   "cell_type": "code",
   "execution_count": 27,
   "id": "4bb62558",
   "metadata": {},
   "outputs": [
    {
     "data": {
      "text/plain": [
       "'Jack'"
      ]
     },
     "execution_count": 27,
     "metadata": {},
     "output_type": "execute_result"
    }
   ],
   "source": [
    "jack_of_diamond.rank"
   ]
  },
  {
   "cell_type": "code",
   "execution_count": 28,
   "id": "9fd539fc",
   "metadata": {},
   "outputs": [
    {
     "data": {
      "text/plain": [
       "True"
      ]
     },
     "execution_count": 28,
     "metadata": {},
     "output_type": "execute_result"
    }
   ],
   "source": [
    "two_of_hearts.value < jack_of_diamond.value"
   ]
  },
  {
   "cell_type": "code",
   "execution_count": 29,
   "id": "45d82d28",
   "metadata": {},
   "outputs": [],
   "source": [
    "# DECK CLASS"
   ]
  },
  {
   "cell_type": "code",
   "execution_count": 30,
   "id": "75f55dda",
   "metadata": {},
   "outputs": [],
   "source": [
    "class Deck:\n",
    "    def __init__(self):\n",
    "        \n",
    "        self.all_cards = []\n",
    "        \n",
    "        for suit in suits:               \n",
    "            for rank in ranks:\n",
    "                \n",
    "                # Create the card\n",
    "                created_card = Card(suit,rank)\n",
    "                self.all_cards.append(created_card)\n",
    "    def shuffle(self):\n",
    "        random.shuffle(self.all_cards)\n",
    "        \n",
    "    def deal_one(self):\n",
    "        return self.all_cards.pop()"
   ]
  },
  {
   "cell_type": "code",
   "execution_count": 31,
   "id": "2a290ef3",
   "metadata": {},
   "outputs": [],
   "source": [
    "new_deck = Deck() "
   ]
  },
  {
   "cell_type": "code",
   "execution_count": 32,
   "id": "db479437",
   "metadata": {},
   "outputs": [],
   "source": [
    "new_deck.shuffle()"
   ]
  },
  {
   "cell_type": "code",
   "execution_count": 33,
   "id": "48c0c8ce",
   "metadata": {},
   "outputs": [],
   "source": [
    "removed_card = new_deck.deal_one()"
   ]
  },
  {
   "cell_type": "code",
   "execution_count": 34,
   "id": "a68ef8e8",
   "metadata": {},
   "outputs": [
    {
     "name": "stdout",
     "output_type": "stream",
     "text": [
      "Jack of Hearts\n"
     ]
    }
   ],
   "source": [
    "print(removed_card)"
   ]
  },
  {
   "cell_type": "code",
   "execution_count": 35,
   "id": "21109ea1",
   "metadata": {},
   "outputs": [
    {
     "data": {
      "text/plain": [
       "51"
      ]
     },
     "execution_count": 35,
     "metadata": {},
     "output_type": "execute_result"
    }
   ],
   "source": [
    "len(new_deck.all_cards)"
   ]
  },
  {
   "cell_type": "code",
   "execution_count": 36,
   "id": "bce945e4",
   "metadata": {},
   "outputs": [],
   "source": [
    "card = new_deck.all_cards[0]"
   ]
  },
  {
   "cell_type": "code",
   "execution_count": 37,
   "id": "0381d061",
   "metadata": {},
   "outputs": [
    {
     "data": {
      "text/plain": [
       "<__main__.Card at 0x1f112d6f430>"
      ]
     },
     "execution_count": 37,
     "metadata": {},
     "output_type": "execute_result"
    }
   ],
   "source": [
    "card"
   ]
  },
  {
   "cell_type": "code",
   "execution_count": 38,
   "id": "b5d6798e",
   "metadata": {},
   "outputs": [
    {
     "name": "stdout",
     "output_type": "stream",
     "text": [
      "Two of Spades\n"
     ]
    }
   ],
   "source": [
    "print(card)"
   ]
  },
  {
   "cell_type": "code",
   "execution_count": 39,
   "id": "f42696c2",
   "metadata": {},
   "outputs": [
    {
     "name": "stdout",
     "output_type": "stream",
     "text": [
      "Two of Spades\n",
      "Ace of Diamonds\n",
      "Ten of Clubs\n",
      "Jack of Spades\n",
      "King of Clubs\n",
      "Jack of Clubs\n",
      "Seven of Hearts\n",
      "Four of Clubs\n",
      "Seven of Clubs\n",
      "Five of Hearts\n",
      "Six of Diamonds\n",
      "Queen of Clubs\n",
      "King of Diamonds\n",
      "Ten of Hearts\n",
      "King of Hearts\n",
      "Queen of Spades\n",
      "Nine of Clubs\n",
      "Nine of Spades\n",
      "Five of Clubs\n",
      "Ten of Spades\n",
      "Six of Spades\n",
      "Ten of Diamonds\n",
      "Two of Diamonds\n",
      "Three of Clubs\n",
      "Eight of Hearts\n",
      "Ace of Hearts\n",
      "Three of Hearts\n",
      "Four of Spades\n",
      "Ace of Spades\n",
      "Ace of Clubs\n",
      "Three of Spades\n",
      "Eight of Clubs\n",
      "Six of Hearts\n",
      "Seven of Spades\n",
      "Five of Spades\n",
      "Seven of Diamonds\n",
      "Two of Clubs\n",
      "Queen of Hearts\n",
      "Eight of Diamonds\n",
      "King of Spades\n",
      "Four of Hearts\n",
      "Four of Diamonds\n",
      "Three of Diamonds\n",
      "Two of Hearts\n",
      "Queen of Diamonds\n",
      "Five of Diamonds\n",
      "Nine of Hearts\n",
      "Eight of Spades\n",
      "Six of Clubs\n",
      "Nine of Diamonds\n",
      "Jack of Diamonds\n"
     ]
    }
   ],
   "source": [
    "for card_object in new_deck.all_cards:\n",
    "    print(card_object)"
   ]
  },
  {
   "cell_type": "code",
   "execution_count": 40,
   "id": "29a3f448",
   "metadata": {},
   "outputs": [],
   "source": [
    "new_deck.shuffle()"
   ]
  },
  {
   "cell_type": "code",
   "execution_count": 41,
   "id": "19a16ba4",
   "metadata": {},
   "outputs": [
    {
     "name": "stdout",
     "output_type": "stream",
     "text": [
      "Eight of Spades\n"
     ]
    }
   ],
   "source": [
    "print(new_deck.all_cards[0])"
   ]
  },
  {
   "cell_type": "code",
   "execution_count": 42,
   "id": "f708add1",
   "metadata": {},
   "outputs": [],
   "source": [
    "class Player:\n",
    "    \n",
    "    def __init__(self,name):\n",
    "        self.name = name\n",
    "        self.all_cards = []\n",
    "    \n",
    "    def remove_one(self):\n",
    "        return self.all_cards.pop(0)\n",
    "    \n",
    "    def add_cards(self,new_cards):\n",
    "        if type(new_cards) == type([]):\n",
    "            self.all_cards.extend(new_cards)\n",
    "        else:\n",
    "            self.all_cards.append(new_cards)\n",
    "    \n",
    "    def __str__(self):\n",
    "        return f\"Player {self.name} has {len(self.all_cards)} cards\""
   ]
  },
  {
   "cell_type": "code",
   "execution_count": 43,
   "id": "79ef60a6",
   "metadata": {},
   "outputs": [],
   "source": [
    "new_player = Player('Srashti')"
   ]
  },
  {
   "cell_type": "code",
   "execution_count": 44,
   "id": "e7627033",
   "metadata": {},
   "outputs": [
    {
     "name": "stdout",
     "output_type": "stream",
     "text": [
      "Player Srashti has 0 cards\n"
     ]
    }
   ],
   "source": [
    "print(new_player)"
   ]
  },
  {
   "cell_type": "code",
   "execution_count": 45,
   "id": "16842d40",
   "metadata": {},
   "outputs": [],
   "source": [
    "new_player.add_cards(card)"
   ]
  },
  {
   "cell_type": "code",
   "execution_count": 46,
   "id": "80bedce4",
   "metadata": {},
   "outputs": [
    {
     "name": "stdout",
     "output_type": "stream",
     "text": [
      "Player Srashti has 1 cards\n"
     ]
    }
   ],
   "source": [
    "print(new_player)"
   ]
  },
  {
   "cell_type": "code",
   "execution_count": 47,
   "id": "542ce22b",
   "metadata": {},
   "outputs": [],
   "source": [
    "new_player.add_cards([card,card,card])"
   ]
  },
  {
   "cell_type": "code",
   "execution_count": 48,
   "id": "5dafa4be",
   "metadata": {},
   "outputs": [
    {
     "name": "stdout",
     "output_type": "stream",
     "text": [
      "Player Srashti has 4 cards\n"
     ]
    }
   ],
   "source": [
    "print(new_player)"
   ]
  },
  {
   "cell_type": "code",
   "execution_count": 49,
   "id": "d82fc915",
   "metadata": {},
   "outputs": [
    {
     "data": {
      "text/plain": [
       "<__main__.Card at 0x1f112d6f430>"
      ]
     },
     "execution_count": 49,
     "metadata": {},
     "output_type": "execute_result"
    }
   ],
   "source": [
    "new_player.remove_one()"
   ]
  },
  {
   "cell_type": "code",
   "execution_count": 50,
   "id": "d2059c99",
   "metadata": {},
   "outputs": [
    {
     "name": "stdout",
     "output_type": "stream",
     "text": [
      "Player Srashti has 3 cards\n"
     ]
    }
   ],
   "source": [
    "print(new_player)"
   ]
  },
  {
   "cell_type": "code",
   "execution_count": 51,
   "id": "1b731e4f",
   "metadata": {},
   "outputs": [],
   "source": [
    "# GAME SETUP"
   ]
  },
  {
   "cell_type": "code",
   "execution_count": 52,
   "id": "22644b65",
   "metadata": {},
   "outputs": [],
   "source": [
    "player_one = Player('One')"
   ]
  },
  {
   "cell_type": "code",
   "execution_count": 53,
   "id": "3e9b6dfa",
   "metadata": {},
   "outputs": [],
   "source": [
    "player_two = Player('Two')"
   ]
  },
  {
   "cell_type": "code",
   "execution_count": 54,
   "id": "644680b3",
   "metadata": {},
   "outputs": [],
   "source": [
    "new_deck = Deck()"
   ]
  },
  {
   "cell_type": "code",
   "execution_count": 55,
   "id": "8a0d8823",
   "metadata": {},
   "outputs": [],
   "source": [
    "new_deck.shuffle()"
   ]
  },
  {
   "cell_type": "code",
   "execution_count": 56,
   "id": "a82ea56d",
   "metadata": {},
   "outputs": [],
   "source": [
    "for x in range(26):\n",
    "    player_one.add_cards(new_deck.deal_one())\n",
    "    player_two.add_cards(new_deck.deal_one())"
   ]
  },
  {
   "cell_type": "code",
   "execution_count": 57,
   "id": "f1c1b1e3",
   "metadata": {},
   "outputs": [
    {
     "name": "stdout",
     "output_type": "stream",
     "text": [
      "Player Two has 26 cards\n"
     ]
    }
   ],
   "source": [
    "print(player_two)"
   ]
  },
  {
   "cell_type": "code",
   "execution_count": 58,
   "id": "3e8e1556",
   "metadata": {},
   "outputs": [
    {
     "name": "stdout",
     "output_type": "stream",
     "text": [
      "Three of Spades\n"
     ]
    }
   ],
   "source": [
    "print(player_one.all_cards[0])"
   ]
  },
  {
   "cell_type": "code",
   "execution_count": 62,
   "id": "3e32487d",
   "metadata": {},
   "outputs": [
    {
     "name": "stdout",
     "output_type": "stream",
     "text": [
      "Round 1:\n",
      "Round 2:\n",
      "Round 3:\n",
      "Round 4:\n",
      "Round 5:\n",
      "Round 6:\n",
      "Round 7:\n",
      "Round 8:\n",
      "Round 9:\n",
      "Round 10:\n",
      "Round 11:\n",
      "Round 12:\n",
      "WAR!!!\n",
      "Player One unable to play war!\n",
      "PLAYER TWO WINS!!\n"
     ]
    }
   ],
   "source": [
    "# GAME_ON\n",
    "round_num = 0\n",
    "game_on = True\n",
    "\n",
    "while game_on:\n",
    "    round_num = round_num + 1\n",
    "    print(f\"Round {round_num}:\")\n",
    "    \n",
    "    if len(player_one.all_cards)==0:\n",
    "        print('Player One, Out of Cards! PLAYER TWO WINS')\n",
    "        game_on = False\n",
    "        break\n",
    "   \n",
    "    if len(player_one.all_cards)==0:\n",
    "        print('Player Two, Out of Cards! PLAYER ONE WINS')\n",
    "        game_on = False\n",
    "        break\n",
    "        \n",
    "    # Start a New Round    \n",
    "    player_one_cards = []\n",
    "    player_one_cards.append(player_one.remove_one())\n",
    "    player_two_cards = []\n",
    "    player_two_cards.append(player_two.remove_one())\n",
    "    \n",
    "    #while at_wars\n",
    "    at_war = True\n",
    "    while at_war:\n",
    "        \n",
    "        if player_one_cards[-1].value > player_two_cards[-1].value:\n",
    "            player_one.add_cards(player_one_cards)\n",
    "            player_one.add_cards(player_two_cards)\n",
    "            at_war = False\n",
    "        \n",
    "        elif player_one_cards[-1].value < player_two_cards[-1].value:\n",
    "            player_two.add_cards(player_two_cards)\n",
    "            player_two.add_cards(player_one_cards)\n",
    "            at_war = False\n",
    "        \n",
    "        else:\n",
    "            print('WAR!!!')\n",
    "            if len(player_one_cards) < 5:\n",
    "                print('Player One unable to play war!')\n",
    "                print('PLAYER TWO WINS!!')\n",
    "                game_on = False\n",
    "                break\n",
    "            elif len(player_two_cards) < 5:\n",
    "                print('Player Two unable to play war!')\n",
    "                print('PLAYER ONE WINS!!')\n",
    "                game_on = False\n",
    "                break\n",
    "            else:\n",
    "                for num in range(5):\n",
    "                    player_one_cards.append(player_one.remove_one())\n",
    "                    player_two_cards.append(player_two.remove_one())"
   ]
  },
  {
   "cell_type": "code",
   "execution_count": null,
   "id": "52c2cbda",
   "metadata": {},
   "outputs": [],
   "source": []
  },
  {
   "cell_type": "code",
   "execution_count": null,
   "id": "5eb3972c",
   "metadata": {},
   "outputs": [],
   "source": []
  }
 ],
 "metadata": {
  "kernelspec": {
   "display_name": "Python 3 (ipykernel)",
   "language": "python",
   "name": "python3"
  },
  "language_info": {
   "codemirror_mode": {
    "name": "ipython",
    "version": 3
   },
   "file_extension": ".py",
   "mimetype": "text/x-python",
   "name": "python",
   "nbconvert_exporter": "python",
   "pygments_lexer": "ipython3",
   "version": "3.9.12"
  }
 },
 "nbformat": 4,
 "nbformat_minor": 5
}
